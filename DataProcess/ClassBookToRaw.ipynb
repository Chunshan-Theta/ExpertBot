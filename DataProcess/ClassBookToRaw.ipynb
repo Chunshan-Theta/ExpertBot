{
  "nbformat": 4,
  "nbformat_minor": 0,
  "metadata": {
    "colab": {
      "provenance": [],
      "authorship_tag": "ABX9TyOuaXQJIuoKjYo8+CwhzsJQ",
      "include_colab_link": true
    },
    "kernelspec": {
      "name": "python3",
      "display_name": "Python 3"
    },
    "language_info": {
      "name": "python"
    }
  },
  "cells": [
    {
      "cell_type": "markdown",
      "metadata": {
        "id": "view-in-github",
        "colab_type": "text"
      },
      "source": [
        "<a href=\"https://colab.research.google.com/github/Chunshan-Theta/SchoolMentor/blob/main/DataProcess/ClassBookToRaw.ipynb\" target=\"_parent\"><img src=\"https://colab.research.google.com/assets/colab-badge.svg\" alt=\"Open In Colab\"/></a>"
      ]
    },
    {
      "cell_type": "code",
      "execution_count": 5,
      "metadata": {
        "id": "LYvCxapMmluq"
      },
      "outputs": [],
      "source": [
        "import requests\n",
        "\n",
        "resource: str = requests.get(\"https://raw.githubusercontent.com/Chunshan-Theta/SchoolMentor/main/DataProcess/ClassBook_7_1.txt\").text\n"
      ]
    },
    {
      "cell_type": "code",
      "source": [],
      "metadata": {
        "id": "dyqUK9n6pdc7"
      },
      "execution_count": 3,
      "outputs": []
    }
  ]
}