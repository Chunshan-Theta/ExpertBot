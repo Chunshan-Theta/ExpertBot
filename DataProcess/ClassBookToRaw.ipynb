{
  "nbformat": 4,
  "nbformat_minor": 0,
  "metadata": {
    "colab": {
      "provenance": [],
      "authorship_tag": "ABX9TyNmKlARzwFnb7CPMyq/sjWR",
      "include_colab_link": true
    },
    "kernelspec": {
      "name": "python3",
      "display_name": "Python 3"
    },
    "language_info": {
      "name": "python"
    }
  },
  "cells": [
    {
      "cell_type": "markdown",
      "metadata": {
        "id": "view-in-github",
        "colab_type": "text"
      },
      "source": [
        "<a href=\"https://colab.research.google.com/github/Chunshan-Theta/SchoolMentor/blob/main/DataProcess/ClassBookToRaw.ipynb\" target=\"_parent\"><img src=\"https://colab.research.google.com/assets/colab-badge.svg\" alt=\"Open In Colab\"/></a>"
      ]
    },
    {
      "cell_type": "code",
      "execution_count": 45,
      "metadata": {
        "id": "LYvCxapMmluq"
      },
      "outputs": [],
      "source": [
        "import requests\n",
        "\n",
        "resource: str = requests.get(\"https://raw.githubusercontent.com/Chunshan-Theta/SchoolMentor/main/DataProcess/ClassBook_7_1.txt\").text\n"
      ]
    },
    {
      "cell_type": "code",
      "source": [
        "API_URL = \"*************\""
      ],
      "metadata": {
        "id": "dRxN6wLuwATv"
      },
      "execution_count": 46,
      "outputs": []
    },
    {
      "cell_type": "code",
      "source": [
        "from typing import Callable, List\n",
        "import re\n",
        "\n",
        "cutLine: Callable = lambda x: [l for l in x.split(\"\\n\") if l != \"\"]\n",
        "removeSpace: Callable = lambda x: [l.replace(\"\\u3000\",\"\") for l in x]\n",
        "removeAnnoatation: Callable = lambda x: [re.sub(r\"\\([^()][A-Za-z0-9_]*\\)\", '', l) for l in x]\n",
        "combineString: Callable = lambda x: \"\".join(x)\n",
        "\n",
        "def cutParagraph(s:str) -> List[str]:\n",
        "  stop_symbol = \"。\"\n",
        "  return_array: List[str] = []\n",
        "  min_size = 100\n",
        "  start_pointer = 0\n",
        "  end_pointer = min_size+1\n",
        "  while end_pointer < len(s):\n",
        "    # print(f\"{end_pointer}/{len(s)}\")\n",
        "    if s[end_pointer] == stop_symbol:\n",
        "      return_array.append(s[start_pointer: end_pointer+1])\n",
        "      start_pointer = end_pointer+1\n",
        "      end_pointer += start_pointer+min_size\n",
        "    end_pointer += 1\n",
        "  return_array.append(s[start_pointer: end_pointer+1])\n",
        "  return return_array\n",
        "\n",
        "\n",
        "\n",
        "#\n",
        "lines =  cutLine(resource)\n",
        "lines = removeSpace(lines)\n",
        "lines = removeAnnoatation(lines)\n",
        "lines = combineString(lines)\n",
        "lines = cutParagraph(lines)\n",
        "lines[:3]"
      ],
      "metadata": {
        "id": "dyqUK9n6pdc7",
        "colab": {
          "base_uri": "https://localhost:8080/"
        },
        "outputId": "386a8b20-7162-4fec-a85c-0422ee2b9731"
      },
      "execution_count": 47,
      "outputs": [
        {
          "output_type": "execute_result",
          "data": {
            "text/plain": [
              "['３CHAPTER生物體的營養１食物中的養分活動３１食物中澱粉與糖的測定３植物如何製造養分活動３３光合作用變因之探討２酵素活動３２酵素的作用４人體如何獲得養分妳看這棵樹長的好高大。欸？這個吊飾是什麼？對阿，感覺可以照到很多陽光。',\n",
              " '這個嗎？這是我去年上生物課的時候做的，也可以做有字樣的喔！生活情境小劇場DailyLifeSituation５８有時間再教妳，我要回家了！掰掰。中間的藍色圖案是怎麼印上去的？好特別喔。用特殊染劑印上去的。教教我嘛，不然這個吊飾借我研究一下。可以教我怎麼做嗎？時間不早了快走吧。植物葉片為了照到更多光，盡可能往上生長來增加照光面積，為什麼植物會需要光照？葉子吊飾上的藍色圖案是如何出現的？Q１Q２５９６０不同生物獲得與利用養分的方式不盡相同，但相同的是，養分可能是生物體內構造的成分，可能和調節生物體的代謝作用有關，也可能產生能量，以利生物體維持生命現象。',\n",
              " '養分與能量人們需要透過攝食而獲得生存所需的大部分養分，這些養分可分為六大類，包括可以產生能量的醣類（碳水化合物）、蛋白質和脂質，以及無法產生能量的水、礦物質和維生素（圖３１）。食物中養分在人體內產生能量的多寡，人們多以燃燒食物所產生的熱量作為推測依據。常用的熱量單位是「卡」或「大卡」，人體可分解獲得熱量的養分中，１公克的醣類或蛋白質可產生４大卡熱量，１公克的脂質則可產生９大卡熱量。１人們透過食物所主要攝取的養分圖３１３１食物中的養分脂質水蛋白質維生素礦物質醣類可以產生能量無法產生能量第３章生物體的營養６１熱量的估算我們可藉由燃燒食物而加熱容器中的水，觀察水溫的變化，推測食物所含熱量的多寡。１公克的水上升１℃所需的熱量，即為１卡，而１０００卡熱量等於一大卡熱量。２１‧花生米燃燒完全之後，錐形瓶中的水溫，從攝氏幾度升高到幾度？瓶中的水共獲得多少熱量？２‧花生米中養分本身含有的熱量，是否會和錐形瓶中水所獲得的熱量相同？為什麼？３‧右圖為某市售鮮乳之營養標示，則此鮮乳在人體內最多能夠產生多少熱量呢？取一段鐵絲或廢棄的解剖針，一端固定於橡皮塞，一端刺入一顆花生。以２５０mL錐形瓶裝入５０mL（即５０g）的水，以溫度計測量並記錄水溫。']"
            ]
          },
          "metadata": {},
          "execution_count": 47
        }
      ]
    },
    {
      "cell_type": "markdown",
      "source": [
        "call api"
      ],
      "metadata": {
        "id": "-OwchpURa6S4"
      }
    },
    {
      "cell_type": "code",
      "source": [
        "from requests.models import Response\n",
        "import requests\n",
        "from typing import Dict, Any\n",
        "test_text: str = \"１人們透過食物所主要攝取的養分圖３１３１食物中的養分脂質水蛋白質維生素礦物質醣類可以產生能量無法產生能量第３章生物體的營養６１熱量的估算我們可藉由燃燒食物而加熱容器中的水，觀察水溫的變化，推測食物所含熱量的多寡。１公克的水上升１℃所需的熱量，即為１卡，而１０００卡熱量等於一大卡熱量。２１‧花生米燃燒完全之後，錐形瓶中的水溫，從攝氏幾度升高到幾度？瓶中的水共獲得多少熱量？２‧花生米中養分本身含有的熱量，是否會和錐形瓶中水所獲得的熱量相同？為什麼？３‧右圖為某市售鮮乳之營養標示，則此鮮乳在人體內最多能夠產生多少熱量呢？取一段鐵絲或廢棄的解剖針，一端固定於橡皮塞，一端刺入一顆花生。以２５０mL錐形瓶裝入５０mL（即５０g）的水，以溫度計測量並記錄水溫。將陶瓷纖維網放在三腳架上，再將錐形瓶放在陶瓷纖維網上。調整鐵絲上花生與陶瓷纖維網的距離（約２cm），並確認橡皮塞不會傾倒。點燃橡皮塞上的花生，迅速以剪好的鋁箔圍住三腳架，測量錐形瓶內水溫變化。※建議使用炒過的花生米，亦可使用洋芋片替代，較易成功燃燒。示範活動測量花生米的熱量步驟問題與討論５１２３４將花生固定於橡皮塞上備好水溫測量裝置並點燃花生等待至燃燒完全，觀測水溫變化花生溫度計鋁箔鐵絲６２食物中澱粉與糖的測定目的醣類包含很多種類，本活動在學習測定澱粉與糖的簡易方法，進一步測定食物中是否具有澱粉與糖。黃褐色的碘液，遇澱粉會變成藍黑色或紫紅色。淺藍色的本氏液，加入葡萄糖溶液（或麥芽糖溶液）後加熱，會依據糖分含量和作用時間，出現綠、黃、橙、紅等顏色變化。\"\n",
        "\n",
        "def callLLM_splitAricle(test_text: str) -> Response:\n",
        "  system_text: str = \"\"\"\n",
        "  透過分析一篇中文文章，包括將其分成段落，提取摘要，並將摘要轉換成關鍵字，請用中文回應\n",
        "  1.拆分段落內容：\n",
        "      請幫我把下面的中文文章分成幾個段落，每個段落都是一個完整的描述。\n",
        "\n",
        "  2.提取摘要：\n",
        "      請幫我從每個段落中提取一個簡短的摘要來總結其主要內容。\n",
        "\n",
        "  3.轉化為5個關鍵字：\n",
        "    將每個段落的摘要轉化為五個關鍵字，以便更容易理解核心訊息。\n",
        "\n",
        "  這任務你必使用這個格式回應：\n",
        "    第 1 段：[請在此插入第 1 段內容] => 摘要：[請在此插入第 1 段的摘要] => 關鍵字：[此處列出五個關鍵字，以逗號分隔]\n",
        "    第 2 段：[請在此插入第 2 段內容] => 摘要：[請在此插入第 2 段的摘要] => 關鍵字：[此處列出五個關鍵字，以逗號分隔]\n",
        "    ...（繼續這個模式）...\n",
        "  \"\"\"\n",
        "  return requests.post(f\"http://{API_URL}/callapi/chatGPT?temperature=0&max_tokens=2048&top_p=1&purpose=refactor-test\",json=[{\n",
        "    \"role\": \"system\",\n",
        "    \"content\": system_text\n",
        "    },\n",
        "    {\n",
        "    \"role\": \"user\",\n",
        "    \"content\": test_text\n",
        "  }])\n",
        "# r = callLLM_splitAricle(test_text)\n",
        "# r.text"
      ],
      "metadata": {
        "id": "wJlPksCOrZiW"
      },
      "execution_count": 48,
      "outputs": []
    },
    {
      "cell_type": "code",
      "source": [
        "import random\n",
        "test_text: str = random.choice(lines)\n",
        "print(test_text)"
      ],
      "metadata": {
        "id": "xjzhAyxlvY3f",
        "outputId": "4a665bf6-e846-45ac-980a-a793efe3c217",
        "colab": {
          "base_uri": "https://localhost:8080/"
        }
      },
      "execution_count": 49,
      "outputs": [
        {
          "output_type": "stream",
          "name": "stdout",
          "text": [
            "酵素的功能與特性酵素，又稱為?，能促進代謝反應的進行，在代謝反應過程中，和酵素結合而作用的物質，稱為受質。酵素和受質的結合具專一性，例如：人體唾液中的澱粉?能夠和澱粉結合，促進澱粉的分解，但因不能和纖維素結合，無法分解纖維素（圖３３）。一般而言，酵素反應的環境若未有溫度、酸鹼性或其他特殊條件的改變，酵素在反應結束後，仍可與新的受質作用。１３２酵素圖３２代謝作用的類型圖３３酵素具有專一性（以澱粉?為例）分解作用大分子轉變產生小分子合成作用小分子結合成為大分子纖維素受質產物小分子糖類酵素（澱粉?）澱粉第３章生物體的營養６５酵素活性與代謝反應酵素的活性，會影響代謝反應速率的快慢。由於大部分種類的酵素主要成分是蛋白質，凡能影響蛋白質特性的因素，都可能改變酵素的活性，進而影響代謝反應的速率，例如：溫度與酸鹼值等。酵素在不同溫度下會有不同的活性。在一定溫度範圍內，酵素的活性會隨溫度升高而增加，促進代謝反應的速率，但若溫度過高，酵素活性會降低，甚至失去活性，進而影響代謝反應的速率（圖３４）。酵素的活性也受到所在環境的酸鹼值影響，例如：胃內的酵素在酸性環境中的活性較佳，小腸內的酵素適合在弱鹼性的環境中作用。一旦酸鹼值超過酵素能忍受的範圍，酵素可能會降低或失去活性，代謝反應的速率也會受到影響（圖３５）。２１‧若同一食物分別在室溫下和冰箱中低溫存放，何處存放的食物應較不易腐敗？而將食物持續冷藏在冰箱，食物是否就不會腐敗？為什麼？２‧人體唾液中的澱粉?隨食物吞入食道後，直至胃中的酸性環境之後，澱粉?是否還能在胃中有效分解澱粉？為什麼？探索小Q溫度（℃）酵素活性０不同溫度與酵素活性的關係圖３４酵素活性酸鹼值胃中的酵素唾液中的酵素小腸中的酵素０７酸性中性鹼性人體內不同酸鹼性環境與不同酵素活性的關係圖３５６６酵素的作用目的藉由本氏液的顏色變化，了解唾液中澱粉?的作用。活動３２器材（以組為單位）建議１‧若實驗室有本生燈，建議使用本生燈做為熱源。２‧本實驗使用酵素有無來做為操作變因，活動結束後，可考慮再挑選一組變因（例如：溫度高低、酸鹼變化）於活動紀錄簿進行實作探究活動。１％澱粉液適量（熟澱粉液佳）酒精燈X１陶瓷纖維網X１保麗龍盒X１本氏液適量５０mL燒杯X１２５０mL燒杯X２滴管X２試管X４試管架X１試管內容物AB甲１mL乙１mL澱粉液３７℃環境酵素有無３７℃環境作用環境０１mL唾液１mL０試管清水變因三腳架X１實作探究活動玻棒X２第３章生物體的營養６７步驟１０分鐘後，將試管甲、乙中的澱粉液分別倒入A、B試管，用玻棒將試管內的液體攪拌均勻，放回３７℃溫水中等待１０分鐘。取試管甲、乙分別加入１mL澱粉液，再取試管A，加入１mL水;試管B加入１mL唾液，將試管甲、乙；A、B置於３７℃溫水中。將A、B試管取出後加入１mL本氏液，放入２５０mL燒杯中隔水加熱，觀察並記錄試管內液體加熱前、後的顏色變化。將２５０mL燒杯裝入約半杯溫水，放在陶瓷纖維網上加熱備用，另以５０mL燒杯收集適量的唾液（可混合適量的水）。※各試管中的液體和未使用完的本氏液，皆須置入回收容器中，不可任意倒除。請嘗試不同變因，並利用活動紀錄簿裡P‧２８的提示進行活動延伸及探討１‧請依據本活動操作過程，試著歸納出操作變因、控制變因與應變變因各為何?２‧步驟中，攪拌完成後不直接加熱，而要再放回溫水中等待的原因為何？３‧步驟完成後，在步驟加入本氏液之前，先吸取A、B試管中少量溶液於乾淨的試管或培養上中，分別滴加碘液，發現試管B仍呈現黃褐色，則應如何解釋較適當？４問題與討論盛３７℃溫水的水盆６８葉是大多數植物製造養分的主要器官。葉內的構造或細胞，分別具有哪些功能？讓我們一起來認識葉的構造（圖３６），了解植物是如何製造生長所需的養分吧！３３植物如何製造養分B葉肉由葉肉細胞組成，通常是葉內最主要的構造，也是葉內進行光合作用的主要場所。葉肉細胞C葉脈葉內的輸導組織，能運輸水分和其他養分，以利各種代謝作用的進行。葉的表皮主要由透明且排列緊密、具保護功能的表皮細胞組成，其能分泌防止水分過度散失的角質層。表皮中可能具有兩兩成對、呈半月形，能進行光合作用的保衛細胞。在兩兩保衛細胞之間的氣孔，則是氣體進出植物體的主要通道。葉綠體氣孔氣體進出角質層上表皮葉肉組織下表皮A表皮C葉脈AAB保衛細胞保衛細胞１２μm２８μm圖３６葉的構造第３章生物體的營養６９日光葉綠體中的葉綠素能吸收光能，再配合酵素的作用將水和二氧化碳經過一連串的反應產生氧氣、葡萄糖和水，此一過程稱為光合作用（圖３７）。透過光合作用，植物將光能儲存在葡萄糖，而葡萄糖可供細胞直接利用、形成纖維素，或是轉換成澱粉或其他形式的養分。光合作用的位置、過程與主要目的隨課重點O２氧氣CO２二氧化碳水水光合作用（葉綠體中）醣類儲存利用根部吸收圖３７光合作用示意圖葉內主要行光合作用的細胞是葉肉細胞，但請你仔細觀察圖３６，還有哪種細胞也能行光合作用呢？並請說明你的理由。\n"
          ]
        }
      ]
    },
    {
      "cell_type": "code",
      "source": [
        "r = callLLM_splitAricle(test_text)\n",
        "r.text"
      ],
      "metadata": {
        "id": "qoBWfJ0-OVxe",
        "outputId": "c15268f5-1d89-4ca9-9f16-2eafae8332fe",
        "colab": {
          "base_uri": "https://localhost:8080/",
          "height": 252
        }
      },
      "execution_count": 50,
      "outputs": [
        {
          "output_type": "execute_result",
          "data": {
            "text/plain": [
              "'{\"id\":\"chatcmpl-86dPn5zDSr1rAxz5r4pgVvtKI3YkL\",\"object\":\"chat.completion\",\"created\":1696592171,\"model\":\"gpt-35-turbo\",\"choices\":[{\"index\":0,\"finish_reason\":\"stop\",\"message\":{\"role\":\"assistant\",\"content\":\"第 1 段：介紹酵素的功能和特性，包括專一性和活性受溫度和酸鹼值等因素影響 => 摘要：酵素能促進代謝反應，具專一性和活性，受溫度和酸鹼值等因素影響 => 關鍵字：酵素，代謝反應，專一性，活性，溫度，酸鹼值\\\\n第 2 段：介紹酵素活性受溫度和酸鹼值影響的原因和影響，以及不同酸鹼值環境下不同酵素活性的關係 => 摘要：酵素活性受溫度和酸鹼值影響，影響代謝反應速率，不同酸鹼值環境下酵素活性不同 => 關鍵字：酵素活性，溫度，酸鹼值，代謝反應速率，環境\\\\n第 3 段：介紹一個實驗，探討唾液中的酵素對澱粉的作用，並提供實驗步驟和器材 => 摘要：介紹一個探討唾液中酵素作用的實驗，提供步驟和器材 => 關鍵字：實驗，唾液，酵素，澱粉，步驟\\\\n第 4 段：介紹葉的構造和不同細胞的功能，以及光合作用的過程和目的 => 摘要：介紹葉的構造和不同細胞的功能，以及光合作用的過程和目的 => 關鍵字：葉的構造，細胞功能，光合作用，過程，目的\\\\n第 5 段：提問哪些細胞能行光合作用，並要求解釋理由 => 摘要：提問哪些細胞能行光合作用，要求解釋理由 => 關鍵字：光合作用，細胞，理由\"}}],\"usage\":{\"completion_tokens\":670,\"prompt_tokens\":3517,\"total_tokens\":4187}}'"
            ],
            "application/vnd.google.colaboratory.intrinsic+json": {
              "type": "string"
            }
          },
          "metadata": {},
          "execution_count": 50
        }
      ]
    },
    {
      "cell_type": "code",
      "source": [
        "response = r.json()\n",
        "# print(response)\n",
        "textArr: List[str] = response[\"choices\"][0][\"message\"][\"content\"].split(\"\\n\")\n",
        "for unit in textArr:\n",
        "  print(unit.split(\"=>\"))\n"
      ],
      "metadata": {
        "id": "f4GXDFQc5Dv5",
        "outputId": "417ae916-b0f4-44d3-ad9f-3a9ab2e2e93a",
        "colab": {
          "base_uri": "https://localhost:8080/"
        }
      },
      "execution_count": 51,
      "outputs": [
        {
          "output_type": "stream",
          "name": "stdout",
          "text": [
            "['第 1 段：介紹酵素的功能和特性，包括專一性和活性受溫度和酸鹼值等因素影響 ', ' 摘要：酵素能促進代謝反應，具專一性和活性，受溫度和酸鹼值等因素影響 ', ' 關鍵字：酵素，代謝反應，專一性，活性，溫度，酸鹼值']\n",
            "['第 2 段：介紹酵素活性受溫度和酸鹼值影響的原因和影響，以及不同酸鹼值環境下不同酵素活性的關係 ', ' 摘要：酵素活性受溫度和酸鹼值影響，影響代謝反應速率，不同酸鹼值環境下酵素活性不同 ', ' 關鍵字：酵素活性，溫度，酸鹼值，代謝反應速率，環境']\n",
            "['第 3 段：介紹一個實驗，探討唾液中的酵素對澱粉的作用，並提供實驗步驟和器材 ', ' 摘要：介紹一個探討唾液中酵素作用的實驗，提供步驟和器材 ', ' 關鍵字：實驗，唾液，酵素，澱粉，步驟']\n",
            "['第 4 段：介紹葉的構造和不同細胞的功能，以及光合作用的過程和目的 ', ' 摘要：介紹葉的構造和不同細胞的功能，以及光合作用的過程和目的 ', ' 關鍵字：葉的構造，細胞功能，光合作用，過程，目的']\n",
            "['第 5 段：提問哪些細胞能行光合作用，並要求解釋理由 ', ' 摘要：提問哪些細胞能行光合作用，要求解釋理由 ', ' 關鍵字：光合作用，細胞，理由']\n"
          ]
        }
      ]
    },
    {
      "cell_type": "markdown",
      "source": [
        "# 製造問題"
      ],
      "metadata": {
        "id": "9rvCdjPKrq70"
      }
    },
    {
      "cell_type": "code",
      "source": [
        "targetContent:str = textArr[0].split(\"=>\")[0].replace(\"第 1 段：\",\"\")\n",
        "targetContent"
      ],
      "metadata": {
        "id": "sVciqr2TwMNt",
        "outputId": "d417dcbe-2513-4ee9-8443-295971bcea2e",
        "colab": {
          "base_uri": "https://localhost:8080/",
          "height": 36
        }
      },
      "execution_count": 52,
      "outputs": [
        {
          "output_type": "execute_result",
          "data": {
            "text/plain": [
              "'介紹酵素的功能和特性，包括專一性和活性受溫度和酸鹼值等因素影響 '"
            ],
            "application/vnd.google.colaboratory.intrinsic+json": {
              "type": "string"
            }
          },
          "metadata": {},
          "execution_count": 52
        }
      ]
    },
    {
      "cell_type": "code",
      "source": [
        "from requests.models import Response\n",
        "import requests\n",
        "from typing import Dict, Any\n",
        "\n",
        "\n",
        "def callLLM_makeQnA(test_text: str) -> Response:\n",
        "  system_text: str = \"\"\"\n",
        "  了解內容的核心概念，提出一個重要的提問，並從內容中產出對應問題的答案，請用中文回應\n",
        "\n",
        "\n",
        "  1.產生問題：\n",
        "      請根據主要內容生成一個問題。\n",
        "\n",
        "  2.產生答案：\n",
        "      請根據主要內容與新生成的問題，產生對應的答案。\n",
        "\n",
        "  這任務你必使用這個格式回應：\n",
        "    問題：[在此插入問題] => 答案：[在此插入答案]\n",
        "  \"\"\"\n",
        "  return requests.post(f\"http://{API_URL}/callapi/chatGPT?temperature=0.3&max_tokens=2048&top_p=1&purpose=refactor-test\",json=[{\n",
        "    \"role\": \"system\",\n",
        "    \"content\": system_text\n",
        "    },\n",
        "    {\n",
        "    \"role\": \"user\",\n",
        "    \"content\": test_text\n",
        "  }])\n",
        "# r = callLLM_splitAricle(test_text)\n",
        "# r.text"
      ],
      "metadata": {
        "id": "Rh6CLap0rqVs"
      },
      "execution_count": 53,
      "outputs": []
    },
    {
      "cell_type": "code",
      "source": [
        "r = callLLM_makeQnA(targetContent)\n",
        "response = r.json()\n",
        "# print(response)\n",
        "response[\"choices\"][0][\"message\"][\"content\"].split(\"=>\")\n"
      ],
      "metadata": {
        "id": "53Ugfe58r32f",
        "outputId": "5768e737-5b33-4335-d596-0a4ceb17fc0d",
        "colab": {
          "base_uri": "https://localhost:8080/"
        }
      },
      "execution_count": 54,
      "outputs": [
        {
          "output_type": "execute_result",
          "data": {
            "text/plain": [
              "['問題：酵素的功能和特性是什麼？它們的專一性和活性受哪些因素影響？\\n\\n答案：酵素是一種生物催化劑，可以加速化學反應的速率，而不會被消耗或改變。酵素具有高度的專一性，只能催化特定的反應。酵素的活性受多種因素影響，包括溫度、酸鹼值、離子強度、物質濃度等。在適當的溫度和酸鹼值下，酵素的活性最高，但當溫度或酸鹼值偏離其最適範圍時，酵素的活性會下降。此外，酵素的活性也受到其結構和環境的影響，如酵素的構象和結合物質的位置等。']"
            ]
          },
          "metadata": {},
          "execution_count": 54
        }
      ]
    }
  ]
}