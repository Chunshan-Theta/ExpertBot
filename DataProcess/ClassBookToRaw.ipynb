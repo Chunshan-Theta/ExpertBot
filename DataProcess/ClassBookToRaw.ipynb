{
  "nbformat": 4,
  "nbformat_minor": 0,
  "metadata": {
    "colab": {
      "provenance": [],
      "authorship_tag": "ABX9TyNt88uWEd9UWU4BKrxIrgVA",
      "include_colab_link": true
    },
    "kernelspec": {
      "name": "python3",
      "display_name": "Python 3"
    },
    "language_info": {
      "name": "python"
    }
  },
  "cells": [
    {
      "cell_type": "markdown",
      "metadata": {
        "id": "view-in-github",
        "colab_type": "text"
      },
      "source": [
        "<a href=\"https://colab.research.google.com/github/Chunshan-Theta/SchoolMentor/blob/main/DataProcess/ClassBookToRaw.ipynb\" target=\"_parent\"><img src=\"https://colab.research.google.com/assets/colab-badge.svg\" alt=\"Open In Colab\"/></a>"
      ]
    },
    {
      "cell_type": "code",
      "execution_count": 8,
      "metadata": {
        "id": "LYvCxapMmluq"
      },
      "outputs": [],
      "source": [
        "import requests\n",
        "\n",
        "resource: str = requests.get(\"https://raw.githubusercontent.com/Chunshan-Theta/SchoolMentor/main/DataProcess/ClassBook_7_1.txt\").text\n"
      ]
    },
    {
      "cell_type": "code",
      "source": [
        "from typing import Callable\n",
        "import re\n",
        "\n",
        "cutLine: Callable = lambda x: [l for l in x.split(\"\\n\") if l != \"\"]\n",
        "removeSpace: Callable = lambda x: [l.replace(\"\\u3000\",\"\") for l in x]\n",
        "removeAnnoatation: Callable = lambda x: [re.sub(r\"\\([^()][A-Za-z0-9_]*\\)\", '', l) for l in x]\n",
        "combineString: Callable = lambda x: \"\".join(x)\n",
        "#\n",
        "lines =  cutLine(resource)\n",
        "lines = removeSpace(lines)\n",
        "lines = removeAnnoatation(lines)\n",
        "lines = combineString(lines)\n",
        "lines[: 1000]"
      ],
      "metadata": {
        "id": "dyqUK9n6pdc7",
        "colab": {
          "base_uri": "https://localhost:8080/",
          "height": 254
        },
        "outputId": "1d086b7f-b040-4185-8bc0-b60718a90f2d"
      },
      "execution_count": 30,
      "outputs": [
        {
          "output_type": "execute_result",
          "data": {
            "text/plain": [
              "'３CHAPTER生物體的營養１食物中的養分活動３１食物中澱粉與糖的測定３植物如何製造養分活動３３光合作用變因之探討２酵素活動３２酵素的作用４人體如何獲得養分妳看這棵樹長的好高大。欸？這個吊飾是什麼？對阿，感覺可以照到很多陽光。這個嗎？這是我去年上生物課的時候做的，也可以做有字樣的喔！生活情境小劇場DailyLifeSituation５８有時間再教妳，我要回家了！掰掰。中間的藍色圖案是怎麼印上去的？好特別喔。用特殊染劑印上去的。教教我嘛，不然這個吊飾借我研究一下。可以教我怎麼做嗎？時間不早了快走吧。植物葉片為了照到更多光，盡可能往上生長來增加照光面積，為什麼植物會需要光照？葉子吊飾上的藍色圖案是如何出現的？Q１Q２５９６０不同生物獲得與利用養分的方式不盡相同，但相同的是，養分可能是生物體內構造的成分，可能和調節生物體的代謝作用有關，也可能產生能量，以利生物體維持生命現象。養分與能量人們需要透過攝食而獲得生存所需的大部分養分，這些養分可分為六大類，包括可以產生能量的醣類（碳水化合物）、蛋白質和脂質，以及無法產生能量的水、礦物質和維生素（圖３１）。食物中養分在人體內產生能量的多寡，人們多以燃燒食物所產生的熱量作為推測依據。常用的熱量單位是「卡」或「大卡」，人體可分解獲得熱量的養分中，１公克的醣類或蛋白質可產生４大卡熱量，１公克的脂質則可產生９大卡熱量。１人們透過食物所主要攝取的養分圖３１３１食物中的養分脂質水蛋白質維生素礦物質醣類可以產生能量無法產生能量第３章生物體的營養６１熱量的估算我們可藉由燃燒食物而加熱容器中的水，觀察水溫的變化，推測食物所含熱量的多寡。１公克的水上升１℃所需的熱量，即為１卡，而１０００卡熱量等於一大卡熱量。２１‧花生米燃燒完全之後，錐形瓶中的水溫，從攝氏幾度升高到幾度？瓶中的水共獲得多少熱量？２‧花生米中養分本身含有的熱量，是否會和錐形瓶中水所獲得的熱量相同？為什麼？３‧右圖為某市售鮮乳之營養標示，則此鮮乳在人體內最多能夠產生多少熱量呢？取一段鐵絲或廢棄的解剖針，一端固定於橡皮塞，一端刺入一顆花生。以２５０mL錐形瓶裝入５０mL（即５０g）的水，以溫度計測量並記錄水溫。將陶瓷纖維網放在三腳架上，再將錐形瓶放在陶瓷纖維網上。調整鐵絲上花生與陶瓷纖維網的距離（約２cm），並確認橡皮塞不會傾倒。點燃橡皮塞上的花生，迅速以剪好的鋁箔圍住三腳架，測量錐形瓶內'"
            ],
            "application/vnd.google.colaboratory.intrinsic+json": {
              "type": "string"
            }
          },
          "metadata": {},
          "execution_count": 30
        }
      ]
    },
    {
      "cell_type": "code",
      "source": [],
      "metadata": {
        "id": "wJlPksCOrZiW"
      },
      "execution_count": null,
      "outputs": []
    }
  ]
}